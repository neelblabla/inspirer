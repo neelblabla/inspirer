{
 "cells": [
  {
   "cell_type": "markdown",
   "metadata": {},
   "source": [
    "# INSPIRER_1.0"
   ]
  },
  {
   "cell_type": "markdown",
   "metadata": {},
   "source": [
    "Fetch a random image from Google Drive"
   ]
  },
  {
   "cell_type": "code",
   "execution_count": 161,
   "metadata": {},
   "outputs": [],
   "source": [
    "import random\n",
    "from pydrive.auth import GoogleAuth\n",
    "from pydrive.drive import GoogleDrive\n",
    "\n",
    "gauth = GoogleAuth()\n",
    "gauth.LocalWebserverAuth() # client_secrets.json need to be in the same directory as the script\n",
    "drive = GoogleDrive(gauth)"
   ]
  },
  {
   "cell_type": "code",
   "execution_count": null,
   "metadata": {},
   "outputs": [],
   "source": [
    "file_list = drive.ListFile({'q': \"'{Google drive folder ID}' in parents and trashed=false\"}).GetList()\n",
    "todays_img = random.choice(file_list)\n",
    "print('title: %s, id: %s' % (todays_img['title'],todays_img['id']))\n",
    "todays_img.GetContentFile(todays_img['title'])"
   ]
  },
  {
   "cell_type": "markdown",
   "metadata": {},
   "source": [
    "Email the image as an attachment"
   ]
  },
  {
   "cell_type": "code",
   "execution_count": 163,
   "metadata": {},
   "outputs": [],
   "source": [
    "import smtplib\n",
    "import ssl\n",
    "from email.mime.text import MIMEText\n",
    "from email.utils import formataddr\n",
    "from email.mime.multipart import MIMEMultipart  # New line\n",
    "from email.mime.base import MIMEBase  # New line\n",
    "from email import encoders  # New line\n",
    "import os"
   ]
  },
  {
   "cell_type": "code",
   "execution_count": null,
   "metadata": {},
   "outputs": [],
   "source": [
    "# User configuration\n",
    "sender_email = \"{sender@email.com}\"\n",
    "sender_name = \"{Mr. Sender}\"\n",
    "password = \"{email password}\" #app Password from GMail\n",
    "\n",
    "receiver_emails = [\"{receiver@email.com}\"]\n",
    "receiver_names = [\"Mr. Receiver\"]\n",
    "\n",
    "# Email body\n",
    "email_html = open('email.html')\n",
    "email_body = email_html.read()\n",
    "\n",
    "filename = todays_img['title']\n",
    "\n",
    "for receiver_email, receiver_name in zip(receiver_emails, receiver_names):\n",
    "\t\tprint(\"Sending the email...\")\n",
    "\t\t# Configurating user's info\n",
    "\t\tmsg = MIMEMultipart()\n",
    "\t\tmsg['To'] = formataddr((receiver_name, receiver_email))\n",
    "\t\tmsg['From'] = formataddr((sender_name, sender_email))\n",
    "\t\tmsg['Subject'] = \"Here's some inspiration for you!\"\n",
    "\t\t\n",
    "\t\tmsg.attach(MIMEText(email_body, 'html'))\n",
    "\n",
    "\t\ttry:\n",
    "\t\t\t# Open PDF file in binary mode\n",
    "\t\t\twith open(filename, \"rb\") as attachment:\n",
    "\t\t\t\t\t\t\tpart = MIMEBase(\"application\", \"octet-stream\")\n",
    "\t\t\t\t\t\t\tpart.set_payload(attachment.read())\n",
    "\n",
    "\t\t\t# Encode file in ASCII characters to send by email\n",
    "\t\t\tencoders.encode_base64(part)\n",
    "\n",
    "\t\t\t# Add header as key/value pair to attachment part\n",
    "\t\t\tpart.add_header(\n",
    "\t\t\t\t\t\"Content-Disposition\",\n",
    "\t\t\t\t\tf\"attachment; filename= {filename}\",\n",
    "\t\t\t)\n",
    "\n",
    "\t\t\tmsg.attach(part)\n",
    "\t\texcept Exception as e:\n",
    "\t\t\t\tprint(f'Oh no! We didn\\'t find the attachment!\\n{e}')\n",
    "\t\t\t\tbreak\n",
    "\n",
    "\t\ttry:\n",
    "\t\t\t\t# Creating a SMTP session | use 587 with TLS, 465 SSL and 25\n",
    "\t\t\t\tserver = smtplib.SMTP('smtp.gmail.com', 587)\n",
    "\t\t\t\t# Encrypts the email\n",
    "\t\t\t\tcontext = ssl.create_default_context()\n",
    "\t\t\t\tserver.starttls(context=context)\n",
    "\t\t\t\t# We log in into our Google account\n",
    "\t\t\t\tserver.login(sender_email, password)\n",
    "\t\t\t\t# Sending email from sender, to receiver with the email body\n",
    "\t\t\t\tserver.sendmail(sender_email, receiver_email, msg.as_string())\n",
    "\t\t\t\tprint('Email sent!')\n",
    "\t\texcept Exception as e:\n",
    "\t\t\t\tprint(f'Oh no! Something bad happened!\\n{e}')\n",
    "\t\t\t\tbreak\n",
    "\t\tfinally:\n",
    "\t\t\t\tprint('Closing the server...')\n",
    "\t\t\t\tserver.quit()"
   ]
  },
  {
   "cell_type": "markdown",
   "metadata": {},
   "source": [
    "Remove the file from the local directory to save space"
   ]
  },
  {
   "cell_type": "code",
   "execution_count": 165,
   "metadata": {},
   "outputs": [],
   "source": [
    "os.remove(todays_img['title'])"
   ]
  }
 ],
 "metadata": {
  "kernelspec": {
   "display_name": "Python 3.9.12 ('base')",
   "language": "python",
   "name": "python3"
  },
  "language_info": {
   "codemirror_mode": {
    "name": "ipython",
    "version": 3
   },
   "file_extension": ".py",
   "mimetype": "text/x-python",
   "name": "python",
   "nbconvert_exporter": "python",
   "pygments_lexer": "ipython3",
   "version": "3.9.12"
  },
  "orig_nbformat": 4,
  "vscode": {
   "interpreter": {
    "hash": "40d3a090f54c6569ab1632332b64b2c03c39dcf918b08424e98f38b5ae0af88f"
   }
  }
 },
 "nbformat": 4,
 "nbformat_minor": 2
}
